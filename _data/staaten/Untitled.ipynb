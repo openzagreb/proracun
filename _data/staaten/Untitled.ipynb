{
 "cells": [
  {
   "cell_type": "code",
   "execution_count": 4,
   "metadata": {},
   "outputs": [
    {
     "name": "stdout",
     "output_type": "stream",
     "text": [
      "/home/walrus/offenerhaushalt\n"
     ]
    }
   ],
   "source": [
    "cd ../../../"
   ]
  },
  {
   "cell_type": "code",
   "execution_count": 5,
   "metadata": {
    "collapsed": true
   },
   "outputs": [],
   "source": [
    "import pandas as pd"
   ]
  },
  {
   "cell_type": "code",
   "execution_count": 7,
   "metadata": {},
   "outputs": [],
   "source": [
    "states = pd.read_csv('German-Zip-Codes.csv', sep=';')"
   ]
  },
  {
   "cell_type": "code",
   "execution_count": 13,
   "metadata": {},
   "outputs": [],
   "source": [
    "bundesland = states.Bundesland.unique()"
   ]
  },
  {
   "cell_type": "code",
   "execution_count": 12,
   "metadata": {
    "collapsed": true
   },
   "outputs": [],
   "source": [
    "import json"
   ]
  },
  {
   "cell_type": "code",
   "execution_count": 14,
   "metadata": {},
   "outputs": [
    {
     "data": {
      "text/plain": [
       "16"
      ]
     },
     "execution_count": 14,
     "metadata": {},
     "output_type": "execute_result"
    }
   ],
   "source": [
    "len(bundesland)"
   ]
  },
  {
   "cell_type": "code",
   "execution_count": 37,
   "metadata": {},
   "outputs": [
    {
     "name": "stdout",
     "output_type": "stream",
     "text": [
      "01_2017-11-12.zip\t\t group-6@2x.jpg\r\n",
      "01@2x.png\t\t\t group-6@3x.jpg\r\n",
      "01@3x.png\t\t\t group-7_2017-11-12.zip\r\n",
      "01.png\t\t\t\t group-7@2x.png\r\n",
      "02_2017-11-12.zip\t\t group-7@3x.png\r\n",
      "02@2x.png\t\t\t group-7.png\r\n",
      "02@3x.png\t\t\t Hamburg-kommunne.json\r\n",
      "03_2017-11-12.zip\t\t Hessen-kommunne.json\r\n",
      "03@2x.png\t\t\t __MACOSX\r\n",
      "03@3x.png\t\t\t Mecklenburg-Vorpommern-kommunne.json\r\n",
      "03_Export\t\t\t nb\r\n",
      "03_Export.zip\t\t\t new-offenerhaushalt.de\r\n",
      "04_2017-11-12.zip\t\t Niedersachsen-kommunne.json\r\n",
      "04@2x.png\t\t\t Nordrhein-Westfalen-kommunne.json\r\n",
      "04@3x.png\t\t\t offener-haushalt_2017-11-07.zip\r\n",
      "1708.03395.pdf\t\t\t offener-haushalt@2x.png\r\n",
      "Baden-Württemberg-kommunne.json  offener-haushalt@3x.png\r\n",
      "Bayern-kommunne.json\t\t offenerhaushalt.de\r\n",
      "Berlin-kommunne.json\t\t offener-haushalt.png\r\n",
      "Brandenburg-kommunne.json\t Overpass\r\n",
      "Bremen-kommunne.json\t\t Rheinland-Pfalz-kommunne.json\r\n",
      "bundesland.json\t\t\t roboto\r\n",
      "config.json\t\t\t Saarland-kommunne.json\r\n",
      "dpvis\t\t\t\t Sachsen-Anhalt-kommunne.json\r\n",
      "dpvis-lib\t\t\t Sachsen-kommunne.json\r\n",
      "font-awesome-4.7.0\t\t Schlewig-Holstein-kommunne.json\r\n",
      "font-awesome-4.7.0.zip\t\t staedte_osm.txt\r\n",
      "German-Zip-Codes.csv\t\t Thüringen-kommunne.json\r\n",
      "group-6_2017-11-12.zip\t\t treemap-constructor\r\n"
     ]
    }
   ],
   "source": [
    "!ls"
   ]
  },
  {
   "cell_type": "code",
   "execution_count": 41,
   "metadata": {},
   "outputs": [],
   "source": [
    "\n",
    "for s, df in states.groupby('Bundesland'):\n",
    "    kommunen = open('{}.json'.format(bd[s]), 'w')\n",
    "    kl = df['Ort'].unique()\n",
    "    kl = sorted(kl)\n",
    "    kl = [k + '\\n' for k in kl]\n",
    "    kommunen.writelines(kl)\n",
    "    kommunen.flush()"
   ]
  },
  {
   "cell_type": "code",
   "execution_count": 40,
   "metadata": {},
   "outputs": [
    {
     "data": {
      "text/plain": [
       "'/home/walrus/offenerhaushalt'"
      ]
     },
     "execution_count": 40,
     "metadata": {},
     "output_type": "execute_result"
    }
   ],
   "source": [
    "pwd"
   ]
  },
  {
   "cell_type": "code",
   "execution_count": 17,
   "metadata": {},
   "outputs": [],
   "source": [
    "bd = {b: '' for b in bundesland} "
   ]
  },
  {
   "cell_type": "code",
   "execution_count": 19,
   "metadata": {},
   "outputs": [],
   "source": [
    "bd['Baden-Württemberg'] = 'BW'\n",
    "bd['Bayern'] = 'BY'\n",
    "bd['Berlin'] = 'BE'\n",
    "bd['Brandenburg'] = 'BB'\n",
    "bd['Bremen'] = 'HB' \n",
    "bd['Hamburg'] = 'HH' \n",
    "bd['Hessen'] = 'HE'\n",
    "bd['Mecklenburg-Vorpommern'] = 'MV'\n",
    "bd['Niedersachsen'] = 'NI'\n",
    "bd['Nordrhein-Westfalen'] = 'NW'\n",
    "bd['Rheinland-Pfalz'] = 'RP'\n",
    "bd['Saarland'] = 'SL'\n",
    "bd['Sachsen'] = 'SN'\n",
    "bd['Sachsen-Anhalt'] = 'ST'\n",
    "bd['Schlewig-Holstein'] = 'SH'\n",
    "bd['Thüringen'] = 'TH'"
   ]
  },
  {
   "cell_type": "code",
   "execution_count": 20,
   "metadata": {},
   "outputs": [
    {
     "data": {
      "text/plain": [
       "{'Baden-Württemberg': 'BW',\n",
       " 'Bayern': 'BY',\n",
       " 'Berlin': 'BE',\n",
       " 'Brandenburg': 'BB',\n",
       " 'Bremen': 'HB',\n",
       " 'Hamburg': 'HH',\n",
       " 'Hessen': 'HE',\n",
       " 'Mecklenburg-Vorpommern': 'MV',\n",
       " 'Niedersachsen': 'NI',\n",
       " 'Nordrhein-Westfalen': 'NW',\n",
       " 'Rheinland-Pfalz': 'RP',\n",
       " 'Saarland': 'SL',\n",
       " 'Sachsen': 'SN',\n",
       " 'Sachsen-Anhalt': 'ST',\n",
       " 'Schlewig-Holstein': 'SH',\n",
       " 'Thüringen': 'TH'}"
      ]
     },
     "execution_count": 20,
     "metadata": {},
     "output_type": "execute_result"
    }
   ],
   "source": [
    "bd"
   ]
  },
  {
   "cell_type": "code",
   "execution_count": 24,
   "metadata": {},
   "outputs": [
    {
     "data": {
      "text/plain": [
       "1120"
      ]
     },
     "execution_count": 24,
     "metadata": {},
     "output_type": "execute_result"
    }
   ],
   "source": [
    "len(states[states.Bundesland == 'Sachsen'])"
   ]
  },
  {
   "cell_type": "code",
   "execution_count": 26,
   "metadata": {},
   "outputs": [
    {
     "data": {
      "text/plain": [
       "961"
      ]
     },
     "execution_count": 26,
     "metadata": {},
     "output_type": "execute_result"
    }
   ],
   "source": [
    "len(states[states.Bundesland == 'Sachsen']['Ort'].unique())"
   ]
  },
  {
   "cell_type": "code",
   "execution_count": 29,
   "metadata": {},
   "outputs": [],
   "source": [
    "json.dump(bd, open('bundesland.json', 'w'))"
   ]
  },
  {
   "cell_type": "code",
   "execution_count": null,
   "metadata": {
    "collapsed": true
   },
   "outputs": [],
   "source": []
  }
 ],
 "metadata": {
  "kernelspec": {
   "display_name": "Python 3",
   "language": "python",
   "name": "python3"
  },
  "language_info": {
   "codemirror_mode": {
    "name": "ipython",
    "version": 3
   },
   "file_extension": ".py",
   "mimetype": "text/x-python",
   "name": "python",
   "nbconvert_exporter": "python",
   "pygments_lexer": "ipython3",
   "version": "3.5.3"
  }
 },
 "nbformat": 4,
 "nbformat_minor": 2
}
